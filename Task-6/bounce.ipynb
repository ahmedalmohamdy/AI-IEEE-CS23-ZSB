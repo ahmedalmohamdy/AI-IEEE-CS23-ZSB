{
 "cells": [
  {
   "attachments": {},
   "cell_type": "markdown",
   "metadata": {},
   "source": [
    "                                                PROBLEM_1"
   ]
  },
  {
   "cell_type": "code",
   "execution_count": 2,
   "metadata": {},
   "outputs": [
    {
     "name": "stdout",
     "output_type": "stream",
     "text": [
      "16 12\n"
     ]
    }
   ],
   "source": [
    "n = int(input())\n",
    "cards = list(map(int, input().split()))\n",
    "\n",
    "sereja_points = 0\n",
    "dima_points = 0\n",
    "\n",
    "while len(cards) > 0:\n",
    "    if cards[0] > cards[-1]:\n",
    "        current_card = cards.pop(0)\n",
    "    else:\n",
    "        current_card = cards.pop(-1)\n",
    "    \n",
    "    if len(cards) % 2 == 0:\n",
    "        sereja_points += current_card\n",
    "    else:\n",
    "        dima_points += current_card\n",
    "\n",
    "print(sereja_points, dima_points)\n"
   ]
  },
  {
   "attachments": {},
   "cell_type": "markdown",
   "metadata": {},
   "source": [
    "                                                PROBLEM_2"
   ]
  },
  {
   "cell_type": "code",
   "execution_count": 6,
   "metadata": {},
   "outputs": [
    {
     "name": "stdout",
     "output_type": "stream",
     "text": [
      "#Black&White\n"
     ]
    }
   ],
   "source": [
    "n, m = map(int, input().split())\n",
    "\n",
    "colored = False\n",
    "\n",
    "for i in range(n):\n",
    "    row = input().split()\n",
    "    for j in range(m):\n",
    "        if row[j] in ['C', 'M', 'Y']:\n",
    "            colored = True\n",
    "            break\n",
    "    if colored:\n",
    "        break\n",
    "\n",
    "if colored:\n",
    "    print(\"#Color\")\n",
    "else:\n",
    "    print(\"#Black&White\")\n"
   ]
  }
 ],
 "metadata": {
  "kernelspec": {
   "display_name": "Python 3",
   "language": "python",
   "name": "python3"
  },
  "language_info": {
   "codemirror_mode": {
    "name": "ipython",
    "version": 3
   },
   "file_extension": ".py",
   "mimetype": "text/x-python",
   "name": "python",
   "nbconvert_exporter": "python",
   "pygments_lexer": "ipython3",
   "version": "3.11.1"
  },
  "orig_nbformat": 4
 },
 "nbformat": 4,
 "nbformat_minor": 2
}
