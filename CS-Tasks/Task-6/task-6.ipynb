{
 "cells": [
  {
   "attachments": {},
   "cell_type": "markdown",
   "metadata": {},
   "source": [
    "1. Create a 3x3 array that contains a diagonal of nines.\n"
   ]
  },
  {
   "cell_type": "code",
   "execution_count": 8,
   "metadata": {},
   "outputs": [
    {
     "name": "stdout",
     "output_type": "stream",
     "text": [
      "[[9 0 0]\n",
      " [0 9 0]\n",
      " [0 0 9]]\n"
     ]
    }
   ],
   "source": [
    "import numpy as np\n",
    "\n",
    "arr = np.diag([9, 9, 9])\n",
    "\n",
    "print(arr)"
   ]
  },
  {
   "attachments": {},
   "cell_type": "markdown",
   "metadata": {},
   "source": [
    "2. Create a 4 x 4 ndarray that only contains consecutive even numbers from 2 to 32 (inclusive) and use boolean indexing to pick out the values that are within 1/2 standard deviations of the mean.\n"
   ]
  },
  {
   "cell_type": "code",
   "execution_count": 7,
   "metadata": {},
   "outputs": [
    {
     "name": "stdout",
     "output_type": "stream",
     "text": [
      "[14 16 18 20]\n"
     ]
    }
   ],
   "source": [
    "\n",
    "# Create a 4x4 ndarray with consecutive even numbers from 2 to 32\n",
    "arr = np.arange(2, 33, 2).reshape(4, 4)\n",
    "# Calculate the mean and standard deviation of the array\n",
    "mean = np.mean(arr)\n",
    "std = np.std(arr)\n",
    "\n",
    "# Create a boolean indexing for values within 1/2 standard deviations of the mean\n",
    "temp = (arr > (mean - 0.5*std)) & (arr < (mean + 0.5*std))\n",
    "\n",
    "result = arr[temp]\n",
    "\n",
    "print(result)"
   ]
  },
  {
   "attachments": {},
   "cell_type": "markdown",
   "metadata": {},
   "source": [
    "3. Create a 9x9 array that contains only zeros of type int.\n"
   ]
  },
  {
   "cell_type": "code",
   "execution_count": 6,
   "metadata": {},
   "outputs": [
    {
     "name": "stdout",
     "output_type": "stream",
     "text": [
      "[[0 0 0 0 0 0 0 0 0]\n",
      " [0 0 0 0 0 0 0 0 0]\n",
      " [0 0 0 0 0 0 0 0 0]\n",
      " [0 0 0 0 0 0 0 0 0]\n",
      " [0 0 0 0 0 0 0 0 0]\n",
      " [0 0 0 0 0 0 0 0 0]\n",
      " [0 0 0 0 0 0 0 0 0]\n",
      " [0 0 0 0 0 0 0 0 0]\n",
      " [0 0 0 0 0 0 0 0 0]]\n"
     ]
    }
   ],
   "source": [
    "arr = np.zeros((9, 9), dtype=int)\n",
    "\n",
    "print(arr)"
   ]
  },
  {
   "attachments": {},
   "cell_type": "markdown",
   "metadata": {},
   "source": [
    "4. Ask the user for a number n. Then, use broadcasting to create a n x n ndarray that has its first column full of ones, its second column full of twos, its third column full of threes, etc...\n"
   ]
  },
  {
   "cell_type": "code",
   "execution_count": 5,
   "metadata": {},
   "outputs": [
    {
     "name": "stdout",
     "output_type": "stream",
     "text": [
      "[[ 1  2  3  4  5  6  7  8  9 10 11 12 13 14 15 16]\n",
      " [ 1  2  3  4  5  6  7  8  9 10 11 12 13 14 15 16]\n",
      " [ 1  2  3  4  5  6  7  8  9 10 11 12 13 14 15 16]\n",
      " [ 1  2  3  4  5  6  7  8  9 10 11 12 13 14 15 16]\n",
      " [ 1  2  3  4  5  6  7  8  9 10 11 12 13 14 15 16]\n",
      " [ 1  2  3  4  5  6  7  8  9 10 11 12 13 14 15 16]\n",
      " [ 1  2  3  4  5  6  7  8  9 10 11 12 13 14 15 16]\n",
      " [ 1  2  3  4  5  6  7  8  9 10 11 12 13 14 15 16]\n",
      " [ 1  2  3  4  5  6  7  8  9 10 11 12 13 14 15 16]\n",
      " [ 1  2  3  4  5  6  7  8  9 10 11 12 13 14 15 16]\n",
      " [ 1  2  3  4  5  6  7  8  9 10 11 12 13 14 15 16]\n",
      " [ 1  2  3  4  5  6  7  8  9 10 11 12 13 14 15 16]\n",
      " [ 1  2  3  4  5  6  7  8  9 10 11 12 13 14 15 16]\n",
      " [ 1  2  3  4  5  6  7  8  9 10 11 12 13 14 15 16]\n",
      " [ 1  2  3  4  5  6  7  8  9 10 11 12 13 14 15 16]\n",
      " [ 1  2  3  4  5  6  7  8  9 10 11 12 13 14 15 16]]\n"
     ]
    }
   ],
   "source": [
    "n = int(input(\"Enter a number: \"))\n",
    "\n",
    "# create an array of zeros with shape (n, n)\n",
    "arr = np.zeros((n, n),dtype=int)\n",
    "\n",
    "# use broadcasting to set the columns to the wanted values\n",
    "arr += np.arange(1, n+1)      #for example n= 2 >>>>>  arr= arr + [1,2]    [[0,0]>>>>>>>  [[1,2]\n",
    "                             #                                              [0,0]]>>>>>>   [1,2]]\n",
    "\n",
    "print(arr)\n"
   ]
  }
 ],
 "metadata": {
  "kernelspec": {
   "display_name": "Python 3",
   "language": "python",
   "name": "python3"
  },
  "language_info": {
   "codemirror_mode": {
    "name": "ipython",
    "version": 3
   },
   "file_extension": ".py",
   "mimetype": "text/x-python",
   "name": "python",
   "nbconvert_exporter": "python",
   "pygments_lexer": "ipython3",
   "version": "3.11.1"
  },
  "orig_nbformat": 4
 },
 "nbformat": 4,
 "nbformat_minor": 2
}
