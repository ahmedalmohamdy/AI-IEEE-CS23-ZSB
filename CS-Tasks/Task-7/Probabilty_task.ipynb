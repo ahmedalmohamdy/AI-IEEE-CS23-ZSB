{
 "cells": [
  {
   "attachments": {},
   "cell_type": "markdown",
   "metadata": {},
   "source": [
    "1. Write a program that calculate the probability depending on the number of the appearance of either the head or the tail after many flips."
   ]
  },
  {
   "cell_type": "code",
   "execution_count": 2,
   "metadata": {},
   "outputs": [
    {
     "name": "stdout",
     "output_type": "stream",
     "text": [
      "the answer is: 0.320\n"
     ]
    }
   ],
   "source": [
    "def factorial(n):            # مستخدمتش مكتبات خالص كدا \n",
    "    if n == 0:\n",
    "        return 1\n",
    "    else:\n",
    "        return n * factorial(n-1)\n",
    "    \n",
    "try: \n",
    " \n",
    "  flips_num = int(input(\"The number of flips: \").strip())    # flips number \n",
    "\n",
    " \n",
    "  Type = input(\"Head or Tail ?\").lower().strip()        # ملك ولا كتابه \n",
    "  if Type not in [\"head\",\"tail\"]:\n",
    "    raise TypeError(\"enter head or tail only\")\n",
    " \n",
    " \n",
    "  app_num = int(input(f\"The number of {Type} appearance: \"))        # عدد مرات الظهور \n",
    " \n",
    " \n",
    "  prob_num = float(input(f\"The probability of {Type} (< 1): \"))      # احتمال الظهور \n",
    "  if  not (prob_num>= .1 and prob_num<=.9):\n",
    "        raise TypeError(f\" not valid value >>>The probability of {Type} should be in range .1 to .9 \")\n",
    " \n",
    "\n",
    "\n",
    "  numOfLines=factorial(flips_num)/(factorial(app_num)*factorial(flips_num-app_num))     # علاقه حساب عدد الاحتمالات اللي بتحقق الشرط المطلوب (lines that sutable for condtion)\n",
    "  p1=1\n",
    "  p2=1\n",
    "  for i in range(app_num):\n",
    "    p1*=prob_num            #لحساب الاحتمال الكلي للنوع المختار سواء ملك او كتابه \n",
    "\n",
    "  for i in range(flips_num-app_num): \n",
    "    p2*=(1-prob_num)        # لحساب الاحتمال الكلي للنوع الاخر الغير مختار سوتء ملك او كتابه \n",
    "\n",
    "  tpl=p1*p2             # total probabilty in one sutable line of truth table\n",
    "  answer=tpl*numOfLines # total probability in all sutable lines \n",
    "\n",
    "  print(f\"the answer is: {answer:.3f}\") \n",
    "  \n",
    "\n",
    "except TypeError as t:\n",
    "    print(t) \n",
    "except ValueError:\n",
    "    print(\"Please enter valid integer numbers and make sure that appearance number always less than flips numbers  \")    \n",
    "except KeyboardInterrupt:\n",
    "    print(\"Ended, Thank You\")              \n",
    "    # bounce for not use any library\n",
    "    # الله يعطيني العافيه والله "
   ]
  }
 ],
 "metadata": {
  "kernelspec": {
   "display_name": "Python 3",
   "language": "python",
   "name": "python3"
  },
  "language_info": {
   "codemirror_mode": {
    "name": "ipython",
    "version": 3
   },
   "file_extension": ".py",
   "mimetype": "text/x-python",
   "name": "python",
   "nbconvert_exporter": "python",
   "pygments_lexer": "ipython3",
   "version": "3.11.1"
  },
  "orig_nbformat": 4
 },
 "nbformat": 4,
 "nbformat_minor": 2
}
