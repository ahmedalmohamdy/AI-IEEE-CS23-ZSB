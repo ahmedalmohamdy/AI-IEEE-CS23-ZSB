{
 "cells": [
  {
   "attachments": {},
   "cell_type": "markdown",
   "metadata": {},
   "source": [
    "Given n non-negative integers representing an elevation map where the width of each bar is 1, compute how much water it can trap after raining"
   ]
  },
  {
   "cell_type": "code",
   "execution_count": 2,
   "metadata": {},
   "outputs": [
    {
     "name": "stdout",
     "output_type": "stream",
     "text": [
      "9\n",
      "6\n"
     ]
    }
   ],
   "source": [
    "def trap(height):\n",
    "    l=0\n",
    "    r=len(height)-1\n",
    "    leftMax=height[l]\n",
    "    rightMax=height[r]\n",
    "    result=0\n",
    "\n",
    "    while l<r :\n",
    "\n",
    "        if leftMax < rightMax:\n",
    "            l+=1\n",
    "            leftMax=max(leftMax,height[l])\n",
    "            result+= leftMax - height[l]\n",
    "\n",
    "        else:\n",
    "         r-=1\n",
    "         rightMax = max(rightMax,height[r])\n",
    "         result+=rightMax-height[r]   \n",
    "    return result     \n",
    "print(trap([4,2,0,3,2,5]))\n",
    "print(trap([0,1,0,2,1,0,1,3,2,1,2,1]))"
   ]
  },
  {
   "attachments": {},
   "cell_type": "markdown",
   "metadata": {},
   "source": [
    "# I watch this video to understand this problem :\n",
    "#     https://www.youtube.com/watch?v=ZI2z5pq0TqA&t=1217s\n",
    "\n",
    "****************************************************************\n",
    "# this my submission: \n",
    "#     https://leetcode.com/problems/trapping-rain-water/submissions/919772960/"
   ]
  }
 ],
 "metadata": {
  "kernelspec": {
   "display_name": "Python 3",
   "language": "python",
   "name": "python3"
  },
  "language_info": {
   "codemirror_mode": {
    "name": "ipython",
    "version": 3
   },
   "file_extension": ".py",
   "mimetype": "text/x-python",
   "name": "python",
   "nbconvert_exporter": "python",
   "pygments_lexer": "ipython3",
   "version": "3.11.1"
  },
  "orig_nbformat": 4
 },
 "nbformat": 4,
 "nbformat_minor": 2
}
