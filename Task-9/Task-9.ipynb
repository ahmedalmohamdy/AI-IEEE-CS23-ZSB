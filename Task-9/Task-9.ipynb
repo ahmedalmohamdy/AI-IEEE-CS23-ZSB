{
 "cells": [
  {
   "attachments": {},
   "cell_type": "markdown",
   "metadata": {},
   "source": [
    "problem_1: \n",
    "\n",
    " Given an array arr, replace every element in that array with the greatest element among the elements to its right, and replace the last element with -1.\n",
    "\n",
    " After doing so, return the array\n",
    " Example 1:\n",
    "\n",
    " Input: arr = [17,18,5,4,6,1]\n",
    " Output: [18,6,6,6,1,-1]"
   ]
  },
  {
   "cell_type": "code",
   "execution_count": 19,
   "metadata": {},
   "outputs": [
    {
     "data": {
      "text/plain": [
       "[18, 6, 6, 6, 1, -1]"
      ]
     },
     "execution_count": 19,
     "metadata": {},
     "output_type": "execute_result"
    }
   ],
   "source": [
    "def replaceElements(arr):\n",
    " for i in range(len(arr)-1):\n",
    "        arr[i] = max(arr[i+1:])\n",
    "\n",
    " arr[-1] = -1 \n",
    " return arr \n",
    "replaceElements([17,18,5,4,6,1])"
   ]
  },
  {
   "attachments": {},
   "cell_type": "markdown",
   "metadata": {},
   "source": [
    "                                    Another solution for problem_1 with less time limit"
   ]
  },
  {
   "cell_type": "code",
   "execution_count": 18,
   "metadata": {},
   "outputs": [
    {
     "name": "stdout",
     "output_type": "stream",
     "text": [
      "[18, 6, 6, 6, 1, -1]\n"
     ]
    }
   ],
   "source": [
    "def replaceElements(arr):\n",
    " max_val = -1\n",
    " for i in range(len(arr)-1, -1, -1):           # max val : -1  1  6\n",
    "                                               #temp     :  1  6  4\n",
    "                                               #arr      :           6   1  -1    \n",
    "    temp = arr[i]\n",
    "    arr[i] = max_val\n",
    "    max_val = max(max_val, temp)\n",
    "    \n",
    " arr[-1] = -1\n",
    " return arr\n",
    "print(replaceElements([17,18,5,4,6,1]))"
   ]
  },
  {
   "attachments": {},
   "cell_type": "markdown",
   "metadata": {},
   "source": [
    "                                                problem_2"
   ]
  },
  {
   "cell_type": "code",
   "execution_count": 2,
   "metadata": {},
   "outputs": [
    {
     "name": "stdout",
     "output_type": "stream",
     "text": [
      "True\n"
     ]
    }
   ],
   "source": [
    "#s = \"A man, a plan, a canal: Panama\"\n",
    "def isPalindrome(s):\n",
    " new_str = \"\"\n",
    " for i in s.lower():\n",
    "     if i.isalnum():\n",
    "         new_str += i\n",
    " if new_str[:]==new_str[::-1]:\n",
    "    return True\n",
    " else:\n",
    "    return False\n",
    "print(isPalindrome(\"A man, a plan, a canal: Panama\"))          "
   ]
  },
  {
   "attachments": {},
   "cell_type": "markdown",
   "metadata": {},
   "source": [
    "                                                 problem_3"
   ]
  },
  {
   "cell_type": "code",
   "execution_count": 1,
   "metadata": {},
   "outputs": [
    {
     "data": {
      "text/plain": [
       "3"
      ]
     },
     "execution_count": 1,
     "metadata": {},
     "output_type": "execute_result"
    }
   ],
   "source": [
    "emails = [\"a@leetcode.com\",\"b@leetcode.com\",\"c@leetcode.com\"]\n",
    "def numUniqueEmails(emails):\n",
    " st=set()\n",
    "\n",
    " for email in emails:\n",
    "     name,domain = email.split(\"@\")\n",
    "     name=name.split(\"+\")[0].replace(\".\",\"\")\n",
    "     st.add(name + \"@\" + domain)\n",
    "\n",
    " return len(st)    \n",
    "numUniqueEmails(emails)"
   ]
  },
  {
   "attachments": {},
   "cell_type": "markdown",
   "metadata": {},
   "source": [
    "#>>>>  All PROBLEMS IS ACCEPTED IN LEETCODE"
   ]
  }
 ],
 "metadata": {
  "kernelspec": {
   "display_name": "Python 3",
   "language": "python",
   "name": "python3"
  },
  "language_info": {
   "codemirror_mode": {
    "name": "ipython",
    "version": 3
   },
   "file_extension": ".py",
   "mimetype": "text/x-python",
   "name": "python",
   "nbconvert_exporter": "python",
   "pygments_lexer": "ipython3",
   "version": "3.11.1"
  },
  "orig_nbformat": 4
 },
 "nbformat": 4,
 "nbformat_minor": 2
}
